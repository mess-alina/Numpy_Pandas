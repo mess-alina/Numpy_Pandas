{
 "cells": [
  {
   "cell_type": "markdown",
   "id": "4733780c",
   "metadata": {},
   "source": [
    "# Lesson 4 Тема “Обучение без учителя”"
   ]
  },
  {
   "cell_type": "markdown",
   "id": "0401eb7c",
   "metadata": {},
   "source": [
    "## Задание 1"
   ]
  },
  {
   "cell_type": "code",
   "execution_count": 2,
   "id": "511b3359",
   "metadata": {},
   "outputs": [
    {
     "data": {
      "text/plain": [
       "'Импортируйте библиотеки pandas, numpy и matplotlib.\\nЗагрузите \"Boston House Prices dataset\" из встроенных наборов\\nданных библиотеки sklearn.\\nСоздайте датафреймы X и y из этих данных.\\nРазбейте эти датафреймы на тренировочные (X_train, y_train) и тестовые (X_test, y_test)\\nс помощью функции train_test_split так, чтобы размер тестовой выборки\\nсоставлял 20% от всех данных, при этом аргумент random_state должен быть равен 42.\\nМасштабируйте данные с помощью StandardScaler.\\nПостройте модель TSNE на тренировочный данных с параметрами:\\nn_components=2, learning_rate=250, random_state=42.\\nПостройте диаграмму рассеяния на этих данных.'"
      ]
     },
     "execution_count": 2,
     "metadata": {},
     "output_type": "execute_result"
    }
   ],
   "source": [
    "'''Импортируйте библиотеки pandas, numpy и matplotlib.\n",
    "Загрузите \"Boston House Prices dataset\" из встроенных наборов\n",
    "данных библиотеки sklearn.\n",
    "Создайте датафреймы X и y из этих данных.\n",
    "Разбейте эти датафреймы на тренировочные (X_train, y_train) и тестовые (X_test, y_test)\n",
    "с помощью функции train_test_split так, чтобы размер тестовой выборки\n",
    "составлял 20% от всех данных, при этом аргумент random_state должен быть равен 42.\n",
    "Масштабируйте данные с помощью StandardScaler.\n",
    "Постройте модель TSNE на тренировочный данных с параметрами:\n",
    "n_components=2, learning_rate=250, random_state=42.\n",
    "Постройте диаграмму рассеяния на этих данных.'''"
   ]
  },
  {
   "cell_type": "code",
   "execution_count": 9,
   "id": "ec2f1814",
   "metadata": {},
   "outputs": [],
   "source": [
    "import numpy as np\n",
    "import pandas as pd\n",
    "import matplotlib.pyplot as plt\n",
    "from sklearn.model_selection import train_test_split\n",
    "plt.style.use('fivethirtyeight')\n",
    "\n",
    "%config InLineBackend.figure_format = 'svg'\n",
    "%matplotlib inline"
   ]
  },
  {
   "cell_type": "code",
   "execution_count": 10,
   "id": "88316794",
   "metadata": {},
   "outputs": [],
   "source": [
    "from sklearn.datasets import load_boston"
   ]
  },
  {
   "cell_type": "code",
   "execution_count": 12,
   "id": "7405c319",
   "metadata": {},
   "outputs": [],
   "source": [
    "boston = load_boston()"
   ]
  },
  {
   "cell_type": "code",
   "execution_count": 18,
   "id": "c13bfe59",
   "metadata": {},
   "outputs": [],
   "source": [
    "data = boston.data"
   ]
  },
  {
   "cell_type": "code",
   "execution_count": 19,
   "id": "bd65682a",
   "metadata": {},
   "outputs": [],
   "source": [
    "feature_names = boston.feature_names"
   ]
  },
  {
   "cell_type": "code",
   "execution_count": 20,
   "id": "cffb25b4",
   "metadata": {},
   "outputs": [],
   "source": [
    "X = pd.DataFrame(data, columns = feature_names)"
   ]
  },
  {
   "cell_type": "code",
   "execution_count": 29,
   "id": "e933a01a",
   "metadata": {},
   "outputs": [],
   "source": [
    "target = boston.target"
   ]
  },
  {
   "cell_type": "code",
   "execution_count": 30,
   "id": "750b9af0",
   "metadata": {},
   "outputs": [],
   "source": [
    "y = pd.DataFrame(target, columns = ['price'])"
   ]
  },
  {
   "cell_type": "code",
   "execution_count": 32,
   "id": "3e295ca6",
   "metadata": {},
   "outputs": [],
   "source": [
    "X_train, X_test, y_train, y_test = train_test_split(X, y, test_size = 0.2, random_state=42)"
   ]
  },
  {
   "cell_type": "code",
   "execution_count": 36,
   "id": "962492f1",
   "metadata": {},
   "outputs": [],
   "source": [
    "from sklearn.preprocessing import StandardScaler"
   ]
  },
  {
   "cell_type": "code",
   "execution_count": 37,
   "id": "12950962",
   "metadata": {},
   "outputs": [],
   "source": [
    "scaler = StandardScaler()"
   ]
  },
  {
   "cell_type": "code",
   "execution_count": 38,
   "id": "c97e3a6e",
   "metadata": {},
   "outputs": [],
   "source": [
    "X_train_scaled = scaler.fit_transform(X_train)"
   ]
  },
  {
   "cell_type": "code",
   "execution_count": 39,
   "id": "efd6687e",
   "metadata": {},
   "outputs": [],
   "source": [
    "X_test_scaled = scaler.transform(X_test)"
   ]
  },
  {
   "cell_type": "code",
   "execution_count": 40,
   "id": "c76d84bf",
   "metadata": {},
   "outputs": [],
   "source": [
    "X_train_scaled = pd.DataFrame(X_train_scaled, columns = feature_names)"
   ]
  },
  {
   "cell_type": "code",
   "execution_count": 41,
   "id": "51e6e346",
   "metadata": {},
   "outputs": [],
   "source": [
    "X_test_scaled = pd.DataFrame(X_test_scaled, columns = feature_names)"
   ]
  },
  {
   "cell_type": "code",
   "execution_count": 44,
   "id": "4de7d3ac",
   "metadata": {},
   "outputs": [],
   "source": [
    "from sklearn.manifold import TSNE"
   ]
  },
  {
   "cell_type": "code",
   "execution_count": 52,
   "id": "8436a2cc",
   "metadata": {},
   "outputs": [],
   "source": [
    "tsne = TSNE(n_components = 2, learning_rate = 250, random_state = 42)"
   ]
  },
  {
   "cell_type": "code",
   "execution_count": 62,
   "id": "aa4de3c3",
   "metadata": {},
   "outputs": [
    {
     "name": "stderr",
     "output_type": "stream",
     "text": [
      "C:\\Users\\Alina\\anaconda3\\lib\\site-packages\\sklearn\\manifold\\_t_sne.py:780: FutureWarning: The default initialization in TSNE will change from 'random' to 'pca' in 1.2.\n",
      "  warnings.warn(\n"
     ]
    }
   ],
   "source": [
    "X_train_tsne = tsne.fit_transform(X_train_scaled)"
   ]
  },
  {
   "cell_type": "code",
   "execution_count": 63,
   "id": "6e87ea80",
   "metadata": {},
   "outputs": [
    {
     "data": {
      "text/plain": [
       "<matplotlib.collections.PathCollection at 0x1d6b22e1bb0>"
      ]
     },
     "execution_count": 63,
     "metadata": {},
     "output_type": "execute_result"
    },
    {
     "data": {
      "image/png": "[encoded data removed]",
      "text/plain": [
       "<Figure size 432x288 with 1 Axes>"
      ]
     },
     "metadata": {
      "needs_background": "light"
     },
     "output_type": "display_data"
    }
   ],
   "source": [
    "plt.scatter(X_train_tsne[:, 0], X_train_tsne[:, 1])"
   ]
  },
  {
   "cell_type": "markdown",
   "id": "af0d204a",
   "metadata": {},
   "source": [
    "## Задание 2"
   ]
  },
  {
   "cell_type": "code",
   "execution_count": 64,
   "id": "26c2f5ca",
   "metadata": {},
   "outputs": [
    {
     "data": {
      "text/plain": [
       "'С помощью KMeans разбейте данные из тренировочного набора на 3 кластера, используйте все признаки из датафрейма X_train.\\nПараметр max_iter должен быть равен 100, random_state сделайте равным 42.\\nПостройте еще раз диаграмму рассеяния на данных, полученных с помощью TSNE,\\nи раскрасьте точки из разных кластеров разными цветами.\\nВычислите средние значения price и CRIM в разных кластерах.'"
      ]
     },
     "execution_count": 64,
     "metadata": {},
     "output_type": "execute_result"
    }
   ],
   "source": [
    "'''С помощью KMeans разбейте данные из тренировочного набора на 3 кластера, используйте все признаки из датафрейма X_train.\n",
    "Параметр max_iter должен быть равен 100, random_state сделайте равным 42.\n",
    "Постройте еще раз диаграмму рассеяния на данных, полученных с помощью TSNE,\n",
    "и раскрасьте точки из разных кластеров разными цветами.\n",
    "Вычислите средние значения price и CRIM в разных кластерах.'''"
   ]
  },
  {
   "cell_type": "code",
   "execution_count": 65,
   "id": "d0e7b9ea",
   "metadata": {},
   "outputs": [],
   "source": [
    "from sklearn.cluster import KMeans"
   ]
  },
  {
   "cell_type": "code",
   "execution_count": 67,
   "id": "05156b77",
   "metadata": {},
   "outputs": [],
   "source": [
    "model = KMeans(n_clusters = 3, max_iter = 100, random_state = 42)"
   ]
  },
  {
   "cell_type": "code",
   "execution_count": 68,
   "id": "ea253979",
   "metadata": {},
   "outputs": [],
   "source": [
    "X_train_labels = model.fit_predict(X_train_scaled)"
   ]
  },
  {
   "cell_type": "code",
   "execution_count": 78,
   "id": "b5761870",
   "metadata": {},
   "outputs": [
    {
     "data": {
      "text/plain": [
       "<matplotlib.collections.PathCollection at 0x1d6b9f036d0>"
      ]
     },
     "execution_count": 78,
     "metadata": {},
     "output_type": "execute_result"
    },
    {
     "data": {
      "image/png": "[encoded data removed]",
      "text/plain": [
       "<Figure size 432x288 with 1 Axes>"
      ]
     },
     "metadata": {
      "needs_background": "light"
     },
     "output_type": "display_data"
    }
   ],
   "source": [
    "plt.scatter(X_train_tsne[:, 0], X_train_tsne[:, 1], c = X_train_labels)"
   ]
  },
  {
   "cell_type": "code",
   "execution_count": 82,
   "id": "6526ca57",
   "metadata": {},
   "outputs": [
    {
     "data": {
      "text/plain": [
       "price    27.788372\n",
       "dtype: float64"
      ]
     },
     "execution_count": 82,
     "metadata": {},
     "output_type": "execute_result"
    }
   ],
   "source": [
    "y_train[X_train_labels==0].mean()"
   ]
  },
  {
   "cell_type": "code",
   "execution_count": 83,
   "id": "8e80fd81",
   "metadata": {},
   "outputs": [
    {
     "data": {
      "text/plain": [
       "price    16.165354\n",
       "dtype: float64"
      ]
     },
     "execution_count": 83,
     "metadata": {},
     "output_type": "execute_result"
    }
   ],
   "source": [
    "y_train[X_train_labels==1].mean()"
   ]
  },
  {
   "cell_type": "code",
   "execution_count": 84,
   "id": "7c3d4a64",
   "metadata": {},
   "outputs": [
    {
     "data": {
      "text/plain": [
       "price    24.958115\n",
       "dtype: float64"
      ]
     },
     "execution_count": 84,
     "metadata": {},
     "output_type": "execute_result"
    }
   ],
   "source": [
    "y_train[X_train_labels==2].mean()"
   ]
  },
  {
   "cell_type": "code",
   "execution_count": 85,
   "id": "678d500c",
   "metadata": {},
   "outputs": [
    {
     "data": {
      "text/plain": [
       "0.07356558139534886"
      ]
     },
     "execution_count": 85,
     "metadata": {},
     "output_type": "execute_result"
    }
   ],
   "source": [
    "X_train.loc[X_train_labels==0, 'CRIM'].mean()"
   ]
  },
  {
   "cell_type": "code",
   "execution_count": 86,
   "id": "f5c7fbbd",
   "metadata": {},
   "outputs": [
    {
     "data": {
      "text/plain": [
       "10.797028425196853"
      ]
     },
     "execution_count": 86,
     "metadata": {},
     "output_type": "execute_result"
    }
   ],
   "source": [
    "X_train.loc[X_train_labels==1, 'CRIM'].mean()"
   ]
  },
  {
   "cell_type": "code",
   "execution_count": 87,
   "id": "1f2d6b62",
   "metadata": {},
   "outputs": [
    {
     "data": {
      "text/plain": [
       "0.42166020942408367"
      ]
     },
     "execution_count": 87,
     "metadata": {},
     "output_type": "execute_result"
    }
   ],
   "source": [
    "X_train.loc[X_train_labels==2, 'CRIM'].mean()"
   ]
  },
  {
   "cell_type": "markdown",
   "id": "80b45426",
   "metadata": {},
   "source": [
    "## *Задание 3"
   ]
  },
  {
   "cell_type": "code",
   "execution_count": 88,
   "id": "a0fee4cf",
   "metadata": {},
   "outputs": [
    {
     "data": {
      "text/plain": [
       "'Примените модель KMeans, построенную в предыдущем задании,\\nк данным из тестового набора.\\nВычислите средние значения price и CRIM в разных кластерах на тестовых данных.'"
      ]
     },
     "execution_count": 88,
     "metadata": {},
     "output_type": "execute_result"
    }
   ],
   "source": [
    "'''Примените модель KMeans, построенную в предыдущем задании,\n",
    "к данным из тестового набора.\n",
    "Вычислите средние значения price и CRIM в разных кластерах на тестовых данных.'''"
   ]
  },
  {
   "cell_type": "code",
   "execution_count": 89,
   "id": "5679aaa5",
   "metadata": {},
   "outputs": [],
   "source": [
    "test_labels = model.predict(X_test_scaled)"
   ]
  },
  {
   "cell_type": "code",
   "execution_count": 90,
   "id": "a4c729d6",
   "metadata": {},
   "outputs": [
    {
     "data": {
      "text/plain": [
       "price    31.35\n",
       "dtype: float64"
      ]
     },
     "execution_count": 90,
     "metadata": {},
     "output_type": "execute_result"
    }
   ],
   "source": [
    "y_test[test_labels==0].mean()"
   ]
  },
  {
   "cell_type": "code",
   "execution_count": 91,
   "id": "9db5c41c",
   "metadata": {},
   "outputs": [
    {
     "data": {
      "text/plain": [
       "price    16.437143\n",
       "dtype: float64"
      ]
     },
     "execution_count": 91,
     "metadata": {},
     "output_type": "execute_result"
    }
   ],
   "source": [
    "y_test[test_labels==1].mean()"
   ]
  },
  {
   "cell_type": "code",
   "execution_count": 92,
   "id": "f26e30f4",
   "metadata": {},
   "outputs": [
    {
     "data": {
      "text/plain": [
       "price    21.860784\n",
       "dtype: float64"
      ]
     },
     "execution_count": 92,
     "metadata": {},
     "output_type": "execute_result"
    }
   ],
   "source": [
    "y_test[test_labels==2].mean()"
   ]
  },
  {
   "cell_type": "code",
   "execution_count": 93,
   "id": "79edf9a9",
   "metadata": {},
   "outputs": [
    {
     "data": {
      "text/plain": [
       "0.062060000000000004"
      ]
     },
     "execution_count": 93,
     "metadata": {},
     "output_type": "execute_result"
    }
   ],
   "source": [
    "X_test.loc[test_labels==0, 'CRIM'].mean()"
   ]
  },
  {
   "cell_type": "code",
   "execution_count": 94,
   "id": "6583a583",
   "metadata": {},
   "outputs": [
    {
     "data": {
      "text/plain": [
       "10.165531142857143"
      ]
     },
     "execution_count": 94,
     "metadata": {},
     "output_type": "execute_result"
    }
   ],
   "source": [
    "X_test.loc[test_labels==1, 'CRIM'].mean()"
   ]
  },
  {
   "cell_type": "code",
   "execution_count": 95,
   "id": "ce060fb8",
   "metadata": {},
   "outputs": [
    {
     "data": {
      "text/plain": [
       "0.26607882352941176"
      ]
     },
     "execution_count": 95,
     "metadata": {},
     "output_type": "execute_result"
    }
   ],
   "source": [
    "X_test.loc[test_labels==2, 'CRIM'].mean()"
   ]
  },
  {
   "cell_type": "code",
   "execution_count": null,
   "id": "c07301be",
   "metadata": {},
   "outputs": [],
   "source": []
  }
 ],
 "metadata": {
  "kernelspec": {
   "display_name": "Python 3 (ipykernel)",
   "language": "python",
   "name": "python3"
  },
  "language_info": {
   "codemirror_mode": {
    "name": "ipython",
    "version": 3
   },
   "file_extension": ".py",
   "mimetype": "text/x-python",
   "name": "python",
   "nbconvert_exporter": "python",
   "pygments_lexer": "ipython3",
   "version": "3.9.12"
  }
 },
 "nbformat": 4,
 "nbformat_minor": 5
}
